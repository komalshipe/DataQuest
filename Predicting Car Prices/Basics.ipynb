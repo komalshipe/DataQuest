{
 "cells": [
  {
   "cell_type": "markdown",
   "metadata": {},
   "source": [
    "#  Introduction\n",
    "In this project we are going to apply k means nearest neighbor algorithm on car's dataset which can be found in following website https://archive.ics.uci.edu/ml/datasets/automobile. In this dataset we contain columns like fuel-type, fuel-system, num-of-cylinders etc.\n",
    "We will be using pandas, sckit, and numpy packages fo visualizing and predicting the car price."
   ]
  },
  {
   "cell_type": "code",
   "execution_count": 23,
   "metadata": {
    "scrolled": true
   },
   "outputs": [
    {
     "data": {
      "text/html": [
       "<div>\n",
       "<table border=\"1\" class=\"dataframe\">\n",
       "  <thead>\n",
       "    <tr style=\"text-align: right;\">\n",
       "      <th></th>\n",
       "      <th>symboling</th>\n",
       "      <th>normalized-losses</th>\n",
       "      <th>make</th>\n",
       "      <th>fuel-type</th>\n",
       "      <th>aspiration</th>\n",
       "      <th>num-of-doors</th>\n",
       "      <th>body-style</th>\n",
       "      <th>drive-wheels</th>\n",
       "      <th>engine-location</th>\n",
       "      <th>wheel-base</th>\n",
       "      <th>...</th>\n",
       "      <th>engine-size</th>\n",
       "      <th>fuel-system</th>\n",
       "      <th>bore</th>\n",
       "      <th>stroke</th>\n",
       "      <th>compression-rate</th>\n",
       "      <th>horsepower</th>\n",
       "      <th>peak-rpm</th>\n",
       "      <th>city-mpg</th>\n",
       "      <th>highway-mpg</th>\n",
       "      <th>price</th>\n",
       "    </tr>\n",
       "  </thead>\n",
       "  <tbody>\n",
       "    <tr>\n",
       "      <th>0</th>\n",
       "      <td>3</td>\n",
       "      <td>?</td>\n",
       "      <td>alfa-romero</td>\n",
       "      <td>gas</td>\n",
       "      <td>std</td>\n",
       "      <td>two</td>\n",
       "      <td>convertible</td>\n",
       "      <td>rwd</td>\n",
       "      <td>front</td>\n",
       "      <td>88.6</td>\n",
       "      <td>...</td>\n",
       "      <td>130</td>\n",
       "      <td>mpfi</td>\n",
       "      <td>3.47</td>\n",
       "      <td>2.68</td>\n",
       "      <td>9.0</td>\n",
       "      <td>111</td>\n",
       "      <td>5000</td>\n",
       "      <td>21</td>\n",
       "      <td>27</td>\n",
       "      <td>13495</td>\n",
       "    </tr>\n",
       "    <tr>\n",
       "      <th>1</th>\n",
       "      <td>3</td>\n",
       "      <td>?</td>\n",
       "      <td>alfa-romero</td>\n",
       "      <td>gas</td>\n",
       "      <td>std</td>\n",
       "      <td>two</td>\n",
       "      <td>convertible</td>\n",
       "      <td>rwd</td>\n",
       "      <td>front</td>\n",
       "      <td>88.6</td>\n",
       "      <td>...</td>\n",
       "      <td>130</td>\n",
       "      <td>mpfi</td>\n",
       "      <td>3.47</td>\n",
       "      <td>2.68</td>\n",
       "      <td>9.0</td>\n",
       "      <td>111</td>\n",
       "      <td>5000</td>\n",
       "      <td>21</td>\n",
       "      <td>27</td>\n",
       "      <td>16500</td>\n",
       "    </tr>\n",
       "    <tr>\n",
       "      <th>2</th>\n",
       "      <td>1</td>\n",
       "      <td>?</td>\n",
       "      <td>alfa-romero</td>\n",
       "      <td>gas</td>\n",
       "      <td>std</td>\n",
       "      <td>two</td>\n",
       "      <td>hatchback</td>\n",
       "      <td>rwd</td>\n",
       "      <td>front</td>\n",
       "      <td>94.5</td>\n",
       "      <td>...</td>\n",
       "      <td>152</td>\n",
       "      <td>mpfi</td>\n",
       "      <td>2.68</td>\n",
       "      <td>3.47</td>\n",
       "      <td>9.0</td>\n",
       "      <td>154</td>\n",
       "      <td>5000</td>\n",
       "      <td>19</td>\n",
       "      <td>26</td>\n",
       "      <td>16500</td>\n",
       "    </tr>\n",
       "    <tr>\n",
       "      <th>3</th>\n",
       "      <td>2</td>\n",
       "      <td>164</td>\n",
       "      <td>audi</td>\n",
       "      <td>gas</td>\n",
       "      <td>std</td>\n",
       "      <td>four</td>\n",
       "      <td>sedan</td>\n",
       "      <td>fwd</td>\n",
       "      <td>front</td>\n",
       "      <td>99.8</td>\n",
       "      <td>...</td>\n",
       "      <td>109</td>\n",
       "      <td>mpfi</td>\n",
       "      <td>3.19</td>\n",
       "      <td>3.40</td>\n",
       "      <td>10.0</td>\n",
       "      <td>102</td>\n",
       "      <td>5500</td>\n",
       "      <td>24</td>\n",
       "      <td>30</td>\n",
       "      <td>13950</td>\n",
       "    </tr>\n",
       "    <tr>\n",
       "      <th>4</th>\n",
       "      <td>2</td>\n",
       "      <td>164</td>\n",
       "      <td>audi</td>\n",
       "      <td>gas</td>\n",
       "      <td>std</td>\n",
       "      <td>four</td>\n",
       "      <td>sedan</td>\n",
       "      <td>4wd</td>\n",
       "      <td>front</td>\n",
       "      <td>99.4</td>\n",
       "      <td>...</td>\n",
       "      <td>136</td>\n",
       "      <td>mpfi</td>\n",
       "      <td>3.19</td>\n",
       "      <td>3.40</td>\n",
       "      <td>8.0</td>\n",
       "      <td>115</td>\n",
       "      <td>5500</td>\n",
       "      <td>18</td>\n",
       "      <td>22</td>\n",
       "      <td>17450</td>\n",
       "    </tr>\n",
       "  </tbody>\n",
       "</table>\n",
       "<p>5 rows × 26 columns</p>\n",
       "</div>"
      ],
      "text/plain": [
       "   symboling normalized-losses         make fuel-type aspiration num-of-doors  \\\n",
       "0          3                 ?  alfa-romero       gas        std          two   \n",
       "1          3                 ?  alfa-romero       gas        std          two   \n",
       "2          1                 ?  alfa-romero       gas        std          two   \n",
       "3          2               164         audi       gas        std         four   \n",
       "4          2               164         audi       gas        std         four   \n",
       "\n",
       "    body-style drive-wheels engine-location  wheel-base  ...    engine-size  \\\n",
       "0  convertible          rwd           front        88.6  ...            130   \n",
       "1  convertible          rwd           front        88.6  ...            130   \n",
       "2    hatchback          rwd           front        94.5  ...            152   \n",
       "3        sedan          fwd           front        99.8  ...            109   \n",
       "4        sedan          4wd           front        99.4  ...            136   \n",
       "\n",
       "   fuel-system  bore  stroke compression-rate horsepower  peak-rpm city-mpg  \\\n",
       "0         mpfi  3.47    2.68              9.0        111      5000       21   \n",
       "1         mpfi  3.47    2.68              9.0        111      5000       21   \n",
       "2         mpfi  2.68    3.47              9.0        154      5000       19   \n",
       "3         mpfi  3.19    3.40             10.0        102      5500       24   \n",
       "4         mpfi  3.19    3.40              8.0        115      5500       18   \n",
       "\n",
       "  highway-mpg  price  \n",
       "0          27  13495  \n",
       "1          27  16500  \n",
       "2          26  16500  \n",
       "3          30  13950  \n",
       "4          22  17450  \n",
       "\n",
       "[5 rows x 26 columns]"
      ]
     },
     "execution_count": 23,
     "metadata": {},
     "output_type": "execute_result"
    }
   ],
   "source": [
    "import pandas as pd\n",
    "import numpy as np\n",
    "\n",
    "cols = ['symboling', 'normalized-losses', 'make', 'fuel-type', 'aspiration', 'num-of-doors', 'body-style', \n",
    "        'drive-wheels', 'engine-location', 'wheel-base', 'length', 'width', 'height', 'curb-weight', 'engine-type', \n",
    "        'num-of-cylinders', 'engine-size', 'fuel-system', 'bore', 'stroke', 'compression-rate', 'horsepower', 'peak-rpm', 'city-mpg', 'highway-mpg', 'price']\n",
    "cars = pd.read_csv('imports-85.data',names=cols)\n",
    "cars.head()"
   ]
  },
  {
   "cell_type": "markdown",
   "metadata": {},
   "source": [
    "Any machine learning algorithm except nlp depends mainly upon numerical values. So first of all we will find which are numerical columns from head of the data. Here we cannot use `pandas.select_dtypes` because there are some columns which contain '?' as character in them. So we will be selecting manually those columns values."
   ]
  },
  {
   "cell_type": "code",
   "execution_count": 24,
   "metadata": {
    "scrolled": true
   },
   "outputs": [
    {
     "data": {
      "text/html": [
       "<div>\n",
       "<table border=\"1\" class=\"dataframe\">\n",
       "  <thead>\n",
       "    <tr style=\"text-align: right;\">\n",
       "      <th></th>\n",
       "      <th>normalized-losses</th>\n",
       "      <th>wheel-base</th>\n",
       "      <th>length</th>\n",
       "      <th>width</th>\n",
       "      <th>height</th>\n",
       "      <th>curb-weight</th>\n",
       "      <th>bore</th>\n",
       "      <th>stroke</th>\n",
       "      <th>compression-rate</th>\n",
       "      <th>horsepower</th>\n",
       "      <th>peak-rpm</th>\n",
       "      <th>city-mpg</th>\n",
       "      <th>highway-mpg</th>\n",
       "      <th>price</th>\n",
       "    </tr>\n",
       "  </thead>\n",
       "  <tbody>\n",
       "    <tr>\n",
       "      <th>0</th>\n",
       "      <td>?</td>\n",
       "      <td>88.6</td>\n",
       "      <td>168.8</td>\n",
       "      <td>64.1</td>\n",
       "      <td>48.8</td>\n",
       "      <td>2548</td>\n",
       "      <td>3.47</td>\n",
       "      <td>2.68</td>\n",
       "      <td>9.0</td>\n",
       "      <td>111</td>\n",
       "      <td>5000</td>\n",
       "      <td>21</td>\n",
       "      <td>27</td>\n",
       "      <td>13495</td>\n",
       "    </tr>\n",
       "    <tr>\n",
       "      <th>1</th>\n",
       "      <td>?</td>\n",
       "      <td>88.6</td>\n",
       "      <td>168.8</td>\n",
       "      <td>64.1</td>\n",
       "      <td>48.8</td>\n",
       "      <td>2548</td>\n",
       "      <td>3.47</td>\n",
       "      <td>2.68</td>\n",
       "      <td>9.0</td>\n",
       "      <td>111</td>\n",
       "      <td>5000</td>\n",
       "      <td>21</td>\n",
       "      <td>27</td>\n",
       "      <td>16500</td>\n",
       "    </tr>\n",
       "    <tr>\n",
       "      <th>2</th>\n",
       "      <td>?</td>\n",
       "      <td>94.5</td>\n",
       "      <td>171.2</td>\n",
       "      <td>65.5</td>\n",
       "      <td>52.4</td>\n",
       "      <td>2823</td>\n",
       "      <td>2.68</td>\n",
       "      <td>3.47</td>\n",
       "      <td>9.0</td>\n",
       "      <td>154</td>\n",
       "      <td>5000</td>\n",
       "      <td>19</td>\n",
       "      <td>26</td>\n",
       "      <td>16500</td>\n",
       "    </tr>\n",
       "    <tr>\n",
       "      <th>3</th>\n",
       "      <td>164</td>\n",
       "      <td>99.8</td>\n",
       "      <td>176.6</td>\n",
       "      <td>66.2</td>\n",
       "      <td>54.3</td>\n",
       "      <td>2337</td>\n",
       "      <td>3.19</td>\n",
       "      <td>3.40</td>\n",
       "      <td>10.0</td>\n",
       "      <td>102</td>\n",
       "      <td>5500</td>\n",
       "      <td>24</td>\n",
       "      <td>30</td>\n",
       "      <td>13950</td>\n",
       "    </tr>\n",
       "    <tr>\n",
       "      <th>4</th>\n",
       "      <td>164</td>\n",
       "      <td>99.4</td>\n",
       "      <td>176.6</td>\n",
       "      <td>66.4</td>\n",
       "      <td>54.3</td>\n",
       "      <td>2824</td>\n",
       "      <td>3.19</td>\n",
       "      <td>3.40</td>\n",
       "      <td>8.0</td>\n",
       "      <td>115</td>\n",
       "      <td>5500</td>\n",
       "      <td>18</td>\n",
       "      <td>22</td>\n",
       "      <td>17450</td>\n",
       "    </tr>\n",
       "  </tbody>\n",
       "</table>\n",
       "</div>"
      ],
      "text/plain": [
       "  normalized-losses  wheel-base  length  width  height  curb-weight  bore  \\\n",
       "0                 ?        88.6   168.8   64.1    48.8         2548  3.47   \n",
       "1                 ?        88.6   168.8   64.1    48.8         2548  3.47   \n",
       "2                 ?        94.5   171.2   65.5    52.4         2823  2.68   \n",
       "3               164        99.8   176.6   66.2    54.3         2337  3.19   \n",
       "4               164        99.4   176.6   66.4    54.3         2824  3.19   \n",
       "\n",
       "  stroke  compression-rate horsepower peak-rpm  city-mpg  highway-mpg  price  \n",
       "0   2.68               9.0        111     5000        21           27  13495  \n",
       "1   2.68               9.0        111     5000        21           27  16500  \n",
       "2   3.47               9.0        154     5000        19           26  16500  \n",
       "3   3.40              10.0        102     5500        24           30  13950  \n",
       "4   3.40               8.0        115     5500        18           22  17450  "
      ]
     },
     "execution_count": 24,
     "metadata": {},
     "output_type": "execute_result"
    }
   ],
   "source": [
    "continuous_values_cols = ['normalized-losses', 'wheel-base', 'length', 'width', 'height', 'curb-weight', 'bore', 'stroke', 'compression-rate', 'horsepower', 'peak-rpm', 'city-mpg', 'highway-mpg', 'price']\n",
    "numeric_cars = cars[continuous_values_cols]\n",
    "numeric_cars.head()"
   ]
  },
  {
   "cell_type": "markdown",
   "metadata": {},
   "source": [
    "So after finding numeric columns our first task is to replace '?' this value with pands nan value or **`numpy.nan`** values which are equivalent. And after replacing lets' check datatypes of numeric_cars df to analyze the columns"
   ]
  },
  {
   "cell_type": "code",
   "execution_count": 25,
   "metadata": {},
   "outputs": [
    {
     "name": "stderr",
     "output_type": "stream",
     "text": [
      "/dataquest/system/env/python3/lib/python3.4/site-packages/ipykernel/__main__.py:1: SettingWithCopyWarning: \n",
      "A value is trying to be set on a copy of a slice from a DataFrame\n",
      "\n",
      "See the caveats in the documentation: http://pandas.pydata.org/pandas-docs/stable/indexing.html#indexing-view-versus-copy\n",
      "  if __name__ == '__main__':\n"
     ]
    },
    {
     "data": {
      "text/html": [
       "<div>\n",
       "<table border=\"1\" class=\"dataframe\">\n",
       "  <thead>\n",
       "    <tr style=\"text-align: right;\">\n",
       "      <th></th>\n",
       "      <th>normalized-losses</th>\n",
       "      <th>wheel-base</th>\n",
       "      <th>length</th>\n",
       "      <th>width</th>\n",
       "      <th>height</th>\n",
       "      <th>curb-weight</th>\n",
       "      <th>bore</th>\n",
       "      <th>stroke</th>\n",
       "      <th>compression-rate</th>\n",
       "      <th>horsepower</th>\n",
       "      <th>peak-rpm</th>\n",
       "      <th>city-mpg</th>\n",
       "      <th>highway-mpg</th>\n",
       "      <th>price</th>\n",
       "    </tr>\n",
       "  </thead>\n",
       "  <tbody>\n",
       "    <tr>\n",
       "      <th>0</th>\n",
       "      <td>NaN</td>\n",
       "      <td>88.6</td>\n",
       "      <td>168.8</td>\n",
       "      <td>64.1</td>\n",
       "      <td>48.8</td>\n",
       "      <td>2548</td>\n",
       "      <td>3.47</td>\n",
       "      <td>2.68</td>\n",
       "      <td>9.0</td>\n",
       "      <td>111</td>\n",
       "      <td>5000</td>\n",
       "      <td>21</td>\n",
       "      <td>27</td>\n",
       "      <td>13495</td>\n",
       "    </tr>\n",
       "    <tr>\n",
       "      <th>1</th>\n",
       "      <td>NaN</td>\n",
       "      <td>88.6</td>\n",
       "      <td>168.8</td>\n",
       "      <td>64.1</td>\n",
       "      <td>48.8</td>\n",
       "      <td>2548</td>\n",
       "      <td>3.47</td>\n",
       "      <td>2.68</td>\n",
       "      <td>9.0</td>\n",
       "      <td>111</td>\n",
       "      <td>5000</td>\n",
       "      <td>21</td>\n",
       "      <td>27</td>\n",
       "      <td>16500</td>\n",
       "    </tr>\n",
       "    <tr>\n",
       "      <th>2</th>\n",
       "      <td>NaN</td>\n",
       "      <td>94.5</td>\n",
       "      <td>171.2</td>\n",
       "      <td>65.5</td>\n",
       "      <td>52.4</td>\n",
       "      <td>2823</td>\n",
       "      <td>2.68</td>\n",
       "      <td>3.47</td>\n",
       "      <td>9.0</td>\n",
       "      <td>154</td>\n",
       "      <td>5000</td>\n",
       "      <td>19</td>\n",
       "      <td>26</td>\n",
       "      <td>16500</td>\n",
       "    </tr>\n",
       "    <tr>\n",
       "      <th>3</th>\n",
       "      <td>164</td>\n",
       "      <td>99.8</td>\n",
       "      <td>176.6</td>\n",
       "      <td>66.2</td>\n",
       "      <td>54.3</td>\n",
       "      <td>2337</td>\n",
       "      <td>3.19</td>\n",
       "      <td>3.40</td>\n",
       "      <td>10.0</td>\n",
       "      <td>102</td>\n",
       "      <td>5500</td>\n",
       "      <td>24</td>\n",
       "      <td>30</td>\n",
       "      <td>13950</td>\n",
       "    </tr>\n",
       "    <tr>\n",
       "      <th>4</th>\n",
       "      <td>164</td>\n",
       "      <td>99.4</td>\n",
       "      <td>176.6</td>\n",
       "      <td>66.4</td>\n",
       "      <td>54.3</td>\n",
       "      <td>2824</td>\n",
       "      <td>3.19</td>\n",
       "      <td>3.40</td>\n",
       "      <td>8.0</td>\n",
       "      <td>115</td>\n",
       "      <td>5500</td>\n",
       "      <td>18</td>\n",
       "      <td>22</td>\n",
       "      <td>17450</td>\n",
       "    </tr>\n",
       "  </tbody>\n",
       "</table>\n",
       "</div>"
      ],
      "text/plain": [
       "  normalized-losses  wheel-base  length  width  height  curb-weight  bore  \\\n",
       "0               NaN        88.6   168.8   64.1    48.8         2548  3.47   \n",
       "1               NaN        88.6   168.8   64.1    48.8         2548  3.47   \n",
       "2               NaN        94.5   171.2   65.5    52.4         2823  2.68   \n",
       "3               164        99.8   176.6   66.2    54.3         2337  3.19   \n",
       "4               164        99.4   176.6   66.4    54.3         2824  3.19   \n",
       "\n",
       "  stroke  compression-rate horsepower peak-rpm  city-mpg  highway-mpg  price  \n",
       "0   2.68               9.0        111     5000        21           27  13495  \n",
       "1   2.68               9.0        111     5000        21           27  16500  \n",
       "2   3.47               9.0        154     5000        19           26  16500  \n",
       "3   3.40              10.0        102     5500        24           30  13950  \n",
       "4   3.40               8.0        115     5500        18           22  17450  "
      ]
     },
     "execution_count": 25,
     "metadata": {},
     "output_type": "execute_result"
    }
   ],
   "source": [
    "numeric_cars.replace('?',np.nan,inplace=True)\n",
    "numeric_cars.head()"
   ]
  },
  {
   "cell_type": "code",
   "execution_count": 26,
   "metadata": {},
   "outputs": [
    {
     "data": {
      "text/plain": [
       "normalized-losses     object\n",
       "wheel-base           float64\n",
       "length               float64\n",
       "width                float64\n",
       "height               float64\n",
       "curb-weight            int64\n",
       "bore                  object\n",
       "stroke                object\n",
       "compression-rate     float64\n",
       "horsepower            object\n",
       "peak-rpm              object\n",
       "city-mpg               int64\n",
       "highway-mpg            int64\n",
       "price                 object\n",
       "dtype: object"
      ]
     },
     "execution_count": 26,
     "metadata": {},
     "output_type": "execute_result"
    }
   ],
   "source": [
    "numeric_cars.dtypes"
   ]
  },
  {
   "cell_type": "code",
   "execution_count": 27,
   "metadata": {
    "collapsed": true
   },
   "outputs": [],
   "source": [
    "numeric_cars = numeric_cars.astype(float)"
   ]
  },
  {
   "cell_type": "code",
   "execution_count": 28,
   "metadata": {},
   "outputs": [
    {
     "data": {
      "text/plain": [
       "normalized-losses    float64\n",
       "wheel-base           float64\n",
       "length               float64\n",
       "width                float64\n",
       "height               float64\n",
       "curb-weight          float64\n",
       "bore                 float64\n",
       "stroke               float64\n",
       "compression-rate     float64\n",
       "horsepower           float64\n",
       "peak-rpm             float64\n",
       "city-mpg             float64\n",
       "highway-mpg          float64\n",
       "price                float64\n",
       "dtype: object"
      ]
     },
     "execution_count": 28,
     "metadata": {},
     "output_type": "execute_result"
    }
   ],
   "source": [
    "numeric_cars.dtypes"
   ]
  },
  {
   "cell_type": "markdown",
   "metadata": {},
   "source": [
    "Now we have converted all numeric columns to float type. Now it is time to calculate the null value count in all columns and trying to find a way to replace those null values or directly droping null values from rows or dropping columns."
   ]
  },
  {
   "cell_type": "code",
   "execution_count": 29,
   "metadata": {},
   "outputs": [
    {
     "name": "stdout",
     "output_type": "stream",
     "text": [
      "normalized-losses    41\n",
      "wheel-base            0\n",
      "length                0\n",
      "width                 0\n",
      "height                0\n",
      "curb-weight           0\n",
      "bore                  4\n",
      "stroke                4\n",
      "compression-rate      0\n",
      "horsepower            2\n",
      "peak-rpm              2\n",
      "city-mpg              0\n",
      "highway-mpg           0\n",
      "price                 4\n",
      "dtype: int64\n"
     ]
    }
   ],
   "source": [
    "print(numeric_cars.isnull().sum())"
   ]
  },
  {
   "cell_type": "code",
   "execution_count": 30,
   "metadata": {},
   "outputs": [
    {
     "data": {
      "text/plain": [
       "205"
      ]
     },
     "execution_count": 30,
     "metadata": {},
     "output_type": "execute_result"
    }
   ],
   "source": [
    "numeric_cars.shape[0]"
   ]
  },
  {
   "cell_type": "markdown",
   "metadata": {},
   "source": [
    "Here we can see that price column has 4 values as missing and we have total 205 values in our data. So we can drop those 4 rows coresponding to price column as it is our predicting value and if we replace it with some arbit value it will add bias to our model so it is best practice to drop those 4 rows.\n",
    "Alse we can see that normalized-losses has around 41 null values which is huge in our case. If we try to drop values from normalized-lossed then we will be losing around 1/4 of our data so we have only two choices either drop the column or replace missing values by mean."
   ]
  },
  {
   "cell_type": "code",
   "execution_count": 31,
   "metadata": {},
   "outputs": [],
   "source": [
    "normMean = numeric_cars['normalized-losses'].mean()\n",
    "numeric_cars['normalized-losses'] = numeric_cars['normalized-losses'].fillna(normMean)\n"
   ]
  },
  {
   "cell_type": "code",
   "execution_count": 32,
   "metadata": {},
   "outputs": [
    {
     "name": "stdout",
     "output_type": "stream",
     "text": [
      "normalized-losses    0\n",
      "wheel-base           0\n",
      "length               0\n",
      "width                0\n",
      "height               0\n",
      "curb-weight          0\n",
      "bore                 0\n",
      "stroke               0\n",
      "compression-rate     0\n",
      "horsepower           0\n",
      "peak-rpm             0\n",
      "city-mpg             0\n",
      "highway-mpg          0\n",
      "price                0\n",
      "dtype: int64\n"
     ]
    }
   ],
   "source": [
    "numeric_cars.dropna(inplace=True,axis=0)\n",
    "print(numeric_cars.isnull().sum())"
   ]
  },
  {
   "cell_type": "code",
   "execution_count": 33,
   "metadata": {},
   "outputs": [
    {
     "data": {
      "text/plain": [
       "195"
      ]
     },
     "execution_count": 33,
     "metadata": {},
     "output_type": "execute_result"
    }
   ],
   "source": [
    "numeric_cars.shape[0]"
   ]
  },
  {
   "cell_type": "markdown",
   "metadata": {},
   "source": [
    "### Normalization\n",
    "As knn require to have some metric defined on it. There may be some column which can have large value compared to other in that case then that column will give more share to our metric and hence will make difficult to genralize knn for all features.\n",
    "So in following case we are going to use this formula $$df = \\frac{df.max()-df}{df.max()}$$\n",
    "Reasons behind this normalization: \n",
    "1. Values can be nearly 0 also\n",
    "2. So we are inverting the values by deleting those values from max\n",
    "3. We want to map those values in range of 0,1 so we are dividing by max value"
   ]
  },
  {
   "cell_type": "code",
   "execution_count": 34,
   "metadata": {},
   "outputs": [
    {
     "data": {
      "text/html": [
       "<div>\n",
       "<table border=\"1\" class=\"dataframe\">\n",
       "  <thead>\n",
       "    <tr style=\"text-align: right;\">\n",
       "      <th></th>\n",
       "      <th>normalized-losses</th>\n",
       "      <th>wheel-base</th>\n",
       "      <th>length</th>\n",
       "      <th>width</th>\n",
       "      <th>height</th>\n",
       "      <th>curb-weight</th>\n",
       "      <th>bore</th>\n",
       "      <th>stroke</th>\n",
       "      <th>compression-rate</th>\n",
       "      <th>horsepower</th>\n",
       "      <th>peak-rpm</th>\n",
       "      <th>city-mpg</th>\n",
       "      <th>highway-mpg</th>\n",
       "      <th>price</th>\n",
       "    </tr>\n",
       "  </thead>\n",
       "  <tbody>\n",
       "    <tr>\n",
       "      <th>0</th>\n",
       "      <td>0.523438</td>\n",
       "      <td>0.267163</td>\n",
       "      <td>0.188852</td>\n",
       "      <td>0.109722</td>\n",
       "      <td>0.183946</td>\n",
       "      <td>0.373340</td>\n",
       "      <td>0.119289</td>\n",
       "      <td>0.357314</td>\n",
       "      <td>0.608696</td>\n",
       "      <td>0.576336</td>\n",
       "      <td>0.242424</td>\n",
       "      <td>0.571429</td>\n",
       "      <td>0.500000</td>\n",
       "      <td>0.702753</td>\n",
       "    </tr>\n",
       "    <tr>\n",
       "      <th>1</th>\n",
       "      <td>0.523438</td>\n",
       "      <td>0.267163</td>\n",
       "      <td>0.188852</td>\n",
       "      <td>0.109722</td>\n",
       "      <td>0.183946</td>\n",
       "      <td>0.373340</td>\n",
       "      <td>0.119289</td>\n",
       "      <td>0.357314</td>\n",
       "      <td>0.608696</td>\n",
       "      <td>0.576336</td>\n",
       "      <td>0.242424</td>\n",
       "      <td>0.571429</td>\n",
       "      <td>0.500000</td>\n",
       "      <td>0.636564</td>\n",
       "    </tr>\n",
       "    <tr>\n",
       "      <th>2</th>\n",
       "      <td>0.523438</td>\n",
       "      <td>0.218362</td>\n",
       "      <td>0.177319</td>\n",
       "      <td>0.090278</td>\n",
       "      <td>0.123746</td>\n",
       "      <td>0.305706</td>\n",
       "      <td>0.319797</td>\n",
       "      <td>0.167866</td>\n",
       "      <td>0.608696</td>\n",
       "      <td>0.412214</td>\n",
       "      <td>0.242424</td>\n",
       "      <td>0.612245</td>\n",
       "      <td>0.518519</td>\n",
       "      <td>0.636564</td>\n",
       "    </tr>\n",
       "    <tr>\n",
       "      <th>3</th>\n",
       "      <td>0.359375</td>\n",
       "      <td>0.174524</td>\n",
       "      <td>0.151370</td>\n",
       "      <td>0.080556</td>\n",
       "      <td>0.091973</td>\n",
       "      <td>0.425234</td>\n",
       "      <td>0.190355</td>\n",
       "      <td>0.184652</td>\n",
       "      <td>0.565217</td>\n",
       "      <td>0.610687</td>\n",
       "      <td>0.166667</td>\n",
       "      <td>0.510204</td>\n",
       "      <td>0.444444</td>\n",
       "      <td>0.692731</td>\n",
       "    </tr>\n",
       "    <tr>\n",
       "      <th>4</th>\n",
       "      <td>0.359375</td>\n",
       "      <td>0.177833</td>\n",
       "      <td>0.151370</td>\n",
       "      <td>0.077778</td>\n",
       "      <td>0.091973</td>\n",
       "      <td>0.305460</td>\n",
       "      <td>0.190355</td>\n",
       "      <td>0.184652</td>\n",
       "      <td>0.652174</td>\n",
       "      <td>0.561069</td>\n",
       "      <td>0.166667</td>\n",
       "      <td>0.632653</td>\n",
       "      <td>0.592593</td>\n",
       "      <td>0.615639</td>\n",
       "    </tr>\n",
       "  </tbody>\n",
       "</table>\n",
       "</div>"
      ],
      "text/plain": [
       "   normalized-losses  wheel-base    length     width    height  curb-weight  \\\n",
       "0           0.523438    0.267163  0.188852  0.109722  0.183946     0.373340   \n",
       "1           0.523438    0.267163  0.188852  0.109722  0.183946     0.373340   \n",
       "2           0.523438    0.218362  0.177319  0.090278  0.123746     0.305706   \n",
       "3           0.359375    0.174524  0.151370  0.080556  0.091973     0.425234   \n",
       "4           0.359375    0.177833  0.151370  0.077778  0.091973     0.305460   \n",
       "\n",
       "       bore    stroke  compression-rate  horsepower  peak-rpm  city-mpg  \\\n",
       "0  0.119289  0.357314          0.608696    0.576336  0.242424  0.571429   \n",
       "1  0.119289  0.357314          0.608696    0.576336  0.242424  0.571429   \n",
       "2  0.319797  0.167866          0.608696    0.412214  0.242424  0.612245   \n",
       "3  0.190355  0.184652          0.565217    0.610687  0.166667  0.510204   \n",
       "4  0.190355  0.184652          0.652174    0.561069  0.166667  0.632653   \n",
       "\n",
       "   highway-mpg     price  \n",
       "0     0.500000  0.702753  \n",
       "1     0.500000  0.636564  \n",
       "2     0.518519  0.636564  \n",
       "3     0.444444  0.692731  \n",
       "4     0.592593  0.615639  "
      ]
     },
     "execution_count": 34,
     "metadata": {},
     "output_type": "execute_result"
    }
   ],
   "source": [
    "price = numeric_cars['price']\n",
    "numeric_cars = (numeric_cars.max()-numeric_cars)/numeric_cars.max()\n",
    "numeric_cars.head()"
   ]
  },
  {
   "cell_type": "code",
   "execution_count": 45,
   "metadata": {
    "collapsed": true
   },
   "outputs": [],
   "source": [
    "numeric_cars['price'] = price"
   ]
  },
  {
   "cell_type": "markdown",
   "metadata": {
    "collapsed": true
   },
   "source": [
    "## Univariate Training\n",
    "After cleaning data and adjusting all values for our model now we are ready for prediction task. In this model we are direcly using sklearn for training and predicitng tasks.\n",
    "The flow of our training task\n",
    "1. First we are making the function which has 3 parameters namely dataframe, training variable, target varialble.\n",
    "2. Then we are using numpy library for selecting random rows.\n",
    "3. After this we are selecting training data and testing data. We are taking around 80 percent of data for training and 20 % for testing purpose."
   ]
  },
  {
   "cell_type": "code",
   "execution_count": 77,
   "metadata": {},
   "outputs": [],
   "source": [
    "from sklearn.neighbors import KNeighborsRegressor\n",
    "from sklearn.model_selection import KFold,cross_val_score\n",
    "from sklearn.metrics import mean_squared_error\n",
    "def knn_train_test(df,train,target):\n",
    "    np.random.seed(1)\n",
    "    no_rows = df.shape[0]\n",
    "    shuff = np.random.permutation(df.index)\n",
    "    newdf = df.reindex(shuff)\n",
    "    split_index = int(no_rows*0.8)\n",
    "    train_df = newdf.iloc[0:split_index]\n",
    "    test_df = newdf.iloc[split_index:]\n",
    "    knn = KNeighborsRegressor()\n",
    "    knn.fit(train_df[[train]],train_df[target])\n",
    "    predict = knn.predict(test_df[[train]])\n",
    "    rmse = mean_squared_error(test_df[target],predict)**0.5\n",
    "    return rmse"
   ]
  },
  {
   "cell_type": "code",
   "execution_count": 110,
   "metadata": {},
   "outputs": [
    {
     "data": {
      "text/plain": [
       "length               3827.473687\n",
       "wheel-base           4272.990245\n",
       "width                4634.187249\n",
       "curb-weight          4671.833752\n",
       "horsepower           4842.451293\n",
       "highway-mpg          4906.780594\n",
       "city-mpg             5158.567586\n",
       "bore                 5516.176394\n",
       "peak-rpm             6140.829238\n",
       "stroke               6194.195679\n",
       "normalized-losses    6266.863189\n",
       "height               6320.879016\n",
       "compression-rate     6654.749329\n",
       "dtype: float64"
      ]
     },
     "execution_count": 110,
     "metadata": {},
     "output_type": "execute_result"
    }
   ],
   "source": [
    "ret_rmse = {}\n",
    "\n",
    "for c in numeric_cars.columns.drop('price'):\n",
    "    ret_rmse[c] = (knn_train_test(numeric_cars,c,'price'))\n",
    "first_re = pd.Series(ret_rmse)\n",
    "first_re.sort_values()"
   ]
  },
  {
   "cell_type": "markdown",
   "metadata": {},
   "source": [
    "Now we will modify the function such that it will ask for k value also. K value determines the number of neighbors which we will want for prediction task."
   ]
  },
  {
   "cell_type": "code",
   "execution_count": 105,
   "metadata": {},
   "outputs": [],
   "source": [
    "def knn_train_test_one(df,train,test,k):\n",
    "    split = int(df.shape[0]*0.8)\n",
    "    np.random.seed(1)\n",
    "    shuff = np.random.permutation(df.index)\n",
    "    newdf = df.reindex(shuff)\n",
    "    train_df = newdf.iloc[:split]\n",
    "    test_df = newdf.iloc[split:]\n",
    "    rmse_values = list()\n",
    "    for i in k:\n",
    "        knn = KNeighborsRegressor(n_neighbors=i)\n",
    "        knn.fit(train_df[[train]],train_df[[test]])\n",
    "        pred = knn.predict(test_df[[train]])\n",
    "        rmse = mean_squared_error(test_df[test],pred)**0.5\n",
    "        rmse_values.append(rmse)\n",
    "    return rmse_values"
   ]
  },
  {
   "cell_type": "code",
   "execution_count": 106,
   "metadata": {
    "collapsed": true
   },
   "outputs": [],
   "source": [
    "%matplotlib inline\n",
    "import matplotlib.pyplot as plt"
   ]
  },
  {
   "cell_type": "code",
   "execution_count": 107,
   "metadata": {},
   "outputs": [
    {
     "data": {
      "image/png": "[encoded data removed]",
      "text/plain": [
       "<matplotlib.figure.Figure at 0x7fa7e1c01c88>"
      ]
     },
     "metadata": {},
     "output_type": "display_data"
    }
   ],
   "source": [
    "k_values = [i for i in range(1,10)]\n",
    "train_cols = numeric_cars.columns.drop('price')\n",
    "for col in train_cols:\n",
    "    rmses = knn_train_test_one(numeric_cars,col,'price',k_values)\n",
    "    plt.plot(k_values,rmses)\n",
    "plt.show()"
   ]
  },
  {
   "cell_type": "markdown",
   "metadata": {},
   "source": [
    "In above graph we can see that some variable have high eror while some has low error. This indicates we don't need all variables for prediction task we can use only some of the variables which has low error while predicting."
   ]
  },
  {
   "cell_type": "markdown",
   "metadata": {},
   "source": [
    "## Multivariate Model\n",
    "Now our task is to design a multivariate model which we can use for training on multiple variables."
   ]
  },
  {
   "cell_type": "code",
   "execution_count": 126,
   "metadata": {
    "collapsed": true
   },
   "outputs": [],
   "source": [
    "def knn_train_test_two(df,train,test):\n",
    "    split = int(df.shape[0]*0.8)\n",
    "    print(split,df.shape[0])\n",
    "    np.random.seed(1)\n",
    "    shuff = np.random.permutation(df.index)\n",
    "    new_df = df.reindex(shuff)\n",
    "    train_df = new_df.iloc[:split]\n",
    "    test_df = new_df.iloc[split:]\n",
    "    knn = KNeighborsRegressor()\n",
    "    knn.fit(train_df[train],train_df[test])\n",
    "    pred = knn.predict(test_df[train])\n",
    "    rmse = mean_squared_error(test_df[test],pred)**0.5\n",
    "    return rmse"
   ]
  },
  {
   "cell_type": "markdown",
   "metadata": {},
   "source": [
    "We have got errors corresponding to different features for predicting price. Now we can use that list to have best features for predicting task."
   ]
  },
  {
   "cell_type": "code",
   "execution_count": 127,
   "metadata": {},
   "outputs": [
    {
     "name": "stdout",
     "output_type": "stream",
     "text": [
      "156 195\n"
     ]
    },
    {
     "data": {
      "text/plain": [
       "4039.7662435547063"
      ]
     },
     "execution_count": 127,
     "metadata": {},
     "output_type": "execute_result"
    }
   ],
   "source": [
    "feature_sel = first_re.sort_values().index.tolist()\n",
    "#selecting best two features \n",
    "bestTwo = knn_train_test_two(numeric_cars,feature_sel[:2],'price')\n",
    "bestTwo"
   ]
  },
  {
   "cell_type": "code",
   "execution_count": 121,
   "metadata": {
    "collapsed": true
   },
   "outputs": [],
   "source": [
    "bestThree = knn_train_test_two(numeric_cars,feature_sel[:3],'price')\n",
    "bestFour = knn_train_test_two(numeric_cars,feature_sel[:4],'price')\n",
    "bestFive = knn_train_test_two(numeric_cars,feature_sel[:5],'price')"
   ]
  },
  {
   "cell_type": "code",
   "execution_count": 122,
   "metadata": {},
   "outputs": [
    {
     "name": "stdout",
     "output_type": "stream",
     "text": [
      "4181.71524788 3717.22250239 3674.32554481 3285.40125809\n"
     ]
    }
   ],
   "source": [
    "print(bestTwo,bestThree,bestFour,bestFive)"
   ]
  },
  {
   "cell_type": "code",
   "execution_count": 128,
   "metadata": {},
   "outputs": [
    {
     "data": {
      "text/plain": [
       "195"
      ]
     },
     "execution_count": 128,
     "metadata": {},
     "output_type": "execute_result"
    }
   ],
   "source": [
    "len(numeric_cars)"
   ]
  },
  {
   "cell_type": "markdown",
   "metadata": {},
   "source": [
    "### Editing Multivariate Model\n",
    "Now we have build the multivariate model lets use this for different neighbors and check the error."
   ]
  },
  {
   "cell_type": "code",
   "execution_count": 129,
   "metadata": {
    "collapsed": true
   },
   "outputs": [],
   "source": [
    "def knn_train_test_three(df,train,test,k):\n",
    "    split = int(df.shape[0]*0.8)\n",
    "    np.random.seed(1)\n",
    "    shuff = np.random.permutation(df.index)\n",
    "    newdf = df.reindex(shuff)\n",
    "    train_df = newdf.iloc[0:split]\n",
    "    test_df = newdf.iloc[split:]\n",
    "    rmses = {}\n",
    "    for i in k:\n",
    "        knn = KNeighborsRegressor(n_neighbors=i)\n",
    "        knn.fit(train_df[train],train_df[test])\n",
    "        pred = knn.predict(test_df[train])\n",
    "        rmse = mean_squared_error(test_df[test],pred)**0.5\n",
    "        rmses[i] = rmse\n",
    "    return rmses"
   ]
  },
  {
   "cell_type": "code",
   "execution_count": 130,
   "metadata": {
    "collapsed": true
   },
   "outputs": [],
   "source": [
    "k_values = [i for i in range(1,26)]\n",
    "threeBest = feature_sel[:3]\n",
    "fourBest = feature_sel[:4]\n",
    "fiveBest = feature_sel[:5]"
   ]
  },
  {
   "cell_type": "code",
   "execution_count": 137,
   "metadata": {},
   "outputs": [
    {
     "data": {
      "text/plain": [
       "dict_values([3016.7216286252506, 2918.0484521732619, 3526.3081543492758, 3871.5935695302787, 3717.2225023944543, 3634.2797801841384, 3909.9206898130233, 4115.8508106870604, 4418.0472428094408, 4301.5223777050651, 4314.9128218666692, 4404.1554061504476, 4445.4142740549478, 4383.3044766038538, 4423.4394526588731, 4472.8051035777698, 4535.3535867127102, 4607.2010805834607, 4686.0240444154606, 4733.7723761463931, 4772.7734446214126, 4839.3164562981337, 4836.3042899775437, 4869.3143415778577, 4942.6716062614951])"
      ]
     },
     "execution_count": 137,
     "metadata": {},
     "output_type": "execute_result"
    }
   ],
   "source": [
    "knn_train_test_three(numeric_cars,threeBest,'price',k_values).values()"
   ]
  },
  {
   "cell_type": "code",
   "execution_count": 132,
   "metadata": {
    "collapsed": true
   },
   "outputs": [],
   "source": [
    "rmse_best = {}\n",
    "rmse_best['one'] = knn_train_test_three(numeric_cars,threeBest,'price',k_values)\n",
    "rmse_best['two'] = knn_train_test_three(numeric_cars,fourBest,'price',k_values)\n",
    "rmse_best['three'] = knn_train_test_three(numeric_cars,fiveBest,'price',k_values)"
   ]
  },
  {
   "cell_type": "code",
   "execution_count": 138,
   "metadata": {
    "scrolled": true
   },
   "outputs": [
    {
     "data": {
      "image/png": "[encoded data removed]",
      "text/plain": [
       "<matplotlib.figure.Figure at 0x7fa7e95d6e10>"
      ]
     },
     "metadata": {},
     "output_type": "display_data"
    }
   ],
   "source": [
    "for k,v in rmse_best.items():\n",
    "    x = list(v.keys())\n",
    "    y = list(v.values())\n",
    "    plt.plot(x,y)\n",
    "plt.show()"
   ]
  },
  {
   "cell_type": "markdown",
   "metadata": {
    "collapsed": true
   },
   "source": [
    "In above window we are visualizing the multivariate model for different no. of features."
   ]
  }
 ],
 "metadata": {
  "kernelspec": {
   "display_name": "Python 3",
   "language": "python",
   "name": "python3"
  },
  "language_info": {
   "codemirror_mode": {
    "name": "ipython",
    "version": 3
   },
   "file_extension": ".py",
   "mimetype": "text/x-python",
   "name": "python",
   "nbconvert_exporter": "python",
   "pygments_lexer": "ipython3",
   "version": "3.6.1"
  }
 },
 "nbformat": 4,
 "nbformat_minor": 2
}
